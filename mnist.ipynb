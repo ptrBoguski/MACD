{
  "nbformat": 4,
  "nbformat_minor": 0,
  "metadata": {
    "colab": {
      "name": "mnist.ipynb",
      "provenance": [],
      "collapsed_sections": [],
      "authorship_tag": "ABX9TyPbAUuFAGLIowNqYqWIJeR9",
      "include_colab_link": true
    },
    "kernelspec": {
      "name": "python3",
      "display_name": "Python 3"
    }
  },
  "cells": [
    {
      "cell_type": "markdown",
      "metadata": {
        "id": "view-in-github",
        "colab_type": "text"
      },
      "source": [
        "<a href=\"https://colab.research.google.com/github/ptrBoguski/MACD/blob/main/mnist.ipynb\" target=\"_parent\"><img src=\"https://colab.research.google.com/assets/colab-badge.svg\" alt=\"Open In Colab\"/></a>"
      ]
    },
    {
      "cell_type": "code",
      "metadata": {
        "id": "8ep36rm4K8VA"
      },
      "source": [
        "import numpy as np\r\n",
        "import pandas as pd\r\n",
        "import matplotlib.pyplot as plt\r\n",
        "from sklearn.metrics import confusion_matrix\r\n",
        "import itertools\r\n",
        "from collections import Counter\r\n",
        "import keras\r\n",
        "from keras.models import Sequential\r\n",
        "from keras.layers import Dense, Dropout, Flatten, Conv2D, MaxPool2D\r\n",
        "from keras.layers.normalization import BatchNormalization\r\n",
        "from keras.preprocessing.image import ImageDataGenerator\r\n",
        "from keras.callbacks import ReduceLROnPlateau\r\n",
        "from sklearn.model_selection import train_test_split\r\n",
        "%matplotlib inline\r\n",
        "batch_size = 64\r\n",
        "digits = 10 \r\n",
        "epochs = 20\r\n",
        "input_shape = (28, 28, 1)"
      ],
      "execution_count": null,
      "outputs": []
    },
    {
      "cell_type": "code",
      "metadata": {
        "id": "mP5ojc05a1c2"
      },
      "source": [
        "#load and reshape data\r\n",
        "train = pd.read_csv(\"/content/input/train.csv\")\r\n",
        "test = pd.read_csv(\"/content/input/test.csv\")\r\n",
        "train_pixels = (train.iloc[:,1:].values).astype('float32')\r\n",
        "train_labels = train.iloc[:,0].values.astype('int32') \r\n",
        "test_pixels = test.values.astype('float32')\r\n",
        "train_pixels = train_pixels/255.0 #normalise to 0.0 - 1.0\r\n",
        "test_pixels = test_pixels/255.0\r\n",
        "train_pixels = train_pixels.reshape(train_pixels.shape[0], 28, 28,1)\r\n",
        "test_pixels = test_pixels.reshape(test_pixels.shape[0], 28, 28,1)"
      ],
      "execution_count": null,
      "outputs": []
    },
    {
      "cell_type": "code",
      "metadata": {
        "id": "v7Za8D2VaVjE"
      },
      "source": [
        "train_labels = keras.utils.to_categorical(train_labels, digits)\r\n",
        "train_pixels, train_val, train_labels, label_val = train_test_split(train_pixels, train_labels, test_size = 0.1, random_state=42)"
      ],
      "execution_count": null,
      "outputs": []
    },
    {
      "cell_type": "code",
      "metadata": {
        "colab": {
          "base_uri": "https://localhost:8080/"
        },
        "id": "cuOP2PI0a8OC",
        "outputId": "574b0b91-9010-4922-e006-d75f8994cda6"
      },
      "source": [
        "model = Sequential()\r\n",
        "model.add(Conv2D(32, kernel_size=(3, 3),activation='relu',kernel_initializer='he_normal',input_shape=input_shape))\r\n",
        "model.add(Conv2D(32, kernel_size=(3, 3),activation='relu',kernel_initializer='he_normal'))\r\n",
        "model.add(MaxPool2D((2, 2)))\r\n",
        "model.add(Dropout(0.20))\r\n",
        "model.add(Conv2D(64, (3, 3), activation='relu',padding='same',kernel_initializer='he_normal'))\r\n",
        "model.add(Conv2D(64, (3, 3), activation='relu',padding='same',kernel_initializer='he_normal'))\r\n",
        "model.add(MaxPool2D(pool_size=(2, 2)))\r\n",
        "model.add(Dropout(0.25))\r\n",
        "model.add(Conv2D(128, (3, 3), activation='relu',padding='same',kernel_initializer='he_normal'))\r\n",
        "model.add(Dropout(0.25))\r\n",
        "model.add(Flatten())\r\n",
        "model.add(Dense(128, activation='relu'))\r\n",
        "model.add(BatchNormalization())\r\n",
        "model.add(Dropout(0.25))\r\n",
        "model.add(Dense(num_classes, activation='softmax'))\r\n",
        "\r\n",
        "model.compile(loss=keras.losses.categorical_crossentropy,\r\n",
        "              optimizer=keras.optimizers.RMSprop(),\r\n",
        "              metrics=['accuracy'])\r\n",
        "\r\n",
        "learning_rate_reduction = ReduceLROnPlateau(monitor='val_accuracy', \r\n",
        "                                            patience=3, \r\n",
        "                                            verbose=1, \r\n",
        "                                            factor=0.5, \r\n",
        "                                            min_lr=0.0001)\r\n",
        "\r\n",
        "datagen = ImageDataGenerator(\r\n",
        "        featurewise_center=False, \r\n",
        "        samplewise_center=False, \r\n",
        "        featurewise_std_normalization=False,\r\n",
        "        samplewise_std_normalization=False,\r\n",
        "        zca_whitening=False, \r\n",
        "        rotation_range=15,\r\n",
        "        zoom_range = 0.1, \r\n",
        "        width_shift_range=0.1, \r\n",
        "        height_shift_range=0.1, \r\n",
        "        horizontal_flip=False, \r\n",
        "        vertical_flip=False)\r\n",
        "\r\n",
        "model.summary()\r\n",
        "\r\n",
        "\r\n",
        "\r\n"
      ],
      "execution_count": null,
      "outputs": [
        {
          "output_type": "stream",
          "text": [
            "Model: \"sequential_2\"\n",
            "_________________________________________________________________\n",
            "Layer (type)                 Output Shape              Param #   \n",
            "=================================================================\n",
            "conv2d_10 (Conv2D)           (None, 26, 26, 32)        320       \n",
            "_________________________________________________________________\n",
            "conv2d_11 (Conv2D)           (None, 24, 24, 32)        9248      \n",
            "_________________________________________________________________\n",
            "max_pooling2d_4 (MaxPooling2 (None, 12, 12, 32)        0         \n",
            "_________________________________________________________________\n",
            "dropout_8 (Dropout)          (None, 12, 12, 32)        0         \n",
            "_________________________________________________________________\n",
            "conv2d_12 (Conv2D)           (None, 12, 12, 64)        18496     \n",
            "_________________________________________________________________\n",
            "conv2d_13 (Conv2D)           (None, 12, 12, 64)        36928     \n",
            "_________________________________________________________________\n",
            "max_pooling2d_5 (MaxPooling2 (None, 6, 6, 64)          0         \n",
            "_________________________________________________________________\n",
            "dropout_9 (Dropout)          (None, 6, 6, 64)          0         \n",
            "_________________________________________________________________\n",
            "conv2d_14 (Conv2D)           (None, 6, 6, 128)         73856     \n",
            "_________________________________________________________________\n",
            "dropout_10 (Dropout)         (None, 6, 6, 128)         0         \n",
            "_________________________________________________________________\n",
            "flatten_2 (Flatten)          (None, 4608)              0         \n",
            "_________________________________________________________________\n",
            "dense_4 (Dense)              (None, 128)               589952    \n",
            "_________________________________________________________________\n",
            "batch_normalization_2 (Batch (None, 128)               512       \n",
            "_________________________________________________________________\n",
            "dropout_11 (Dropout)         (None, 128)               0         \n",
            "_________________________________________________________________\n",
            "dense_5 (Dense)              (None, 10)                1290      \n",
            "=================================================================\n",
            "Total params: 730,602\n",
            "Trainable params: 730,346\n",
            "Non-trainable params: 256\n",
            "_________________________________________________________________\n"
          ],
          "name": "stdout"
        }
      ]
    },
    {
      "cell_type": "code",
      "metadata": {
        "colab": {
          "base_uri": "https://localhost:8080/"
        },
        "id": "emQ49twDbXdu",
        "outputId": "5f7f1aab-0806-450f-cf9b-a89a400df4c8"
      },
      "source": [
        "datagen.fit(train_pixels)\r\n",
        "h = model.fit(datagen.flow(train_pixels,train_labels, batch_size=batch_size),\r\n",
        "                              epochs = epochs, validation_data = (train_val,label_val),\r\n",
        "                              verbose = 1, steps_per_epoch=train_pixels.shape[0] // batch_size\r\n",
        "                              , callbacks=[learning_rate_reduction],)\r\n"
      ],
      "execution_count": null,
      "outputs": [
        {
          "output_type": "stream",
          "text": [
            "Epoch 1/20\n",
            "590/590 [==============================] - 118s 198ms/step - loss: 0.7005 - accuracy: 0.7750 - val_loss: 0.0572 - val_accuracy: 0.9829\n",
            "Epoch 2/20\n",
            "590/590 [==============================] - 118s 199ms/step - loss: 0.1121 - accuracy: 0.9653 - val_loss: 0.0424 - val_accuracy: 0.9874\n",
            "Epoch 3/20\n",
            "590/590 [==============================] - 117s 198ms/step - loss: 0.0902 - accuracy: 0.9732 - val_loss: 0.0400 - val_accuracy: 0.9871\n",
            "Epoch 4/20\n",
            "590/590 [==============================] - 116s 197ms/step - loss: 0.0679 - accuracy: 0.9800 - val_loss: 0.0517 - val_accuracy: 0.9831\n",
            "Epoch 5/20\n",
            "590/590 [==============================] - 117s 199ms/step - loss: 0.0636 - accuracy: 0.9796 - val_loss: 0.0236 - val_accuracy: 0.9926\n",
            "Epoch 6/20\n",
            "590/590 [==============================] - 117s 199ms/step - loss: 0.0548 - accuracy: 0.9829 - val_loss: 0.0270 - val_accuracy: 0.9917\n",
            "Epoch 7/20\n",
            "590/590 [==============================] - 117s 199ms/step - loss: 0.0519 - accuracy: 0.9830 - val_loss: 0.0404 - val_accuracy: 0.9886\n",
            "Epoch 8/20\n",
            "590/590 [==============================] - 116s 197ms/step - loss: 0.0476 - accuracy: 0.9850 - val_loss: 0.0221 - val_accuracy: 0.9933\n",
            "Epoch 9/20\n",
            "590/590 [==============================] - 117s 199ms/step - loss: 0.0455 - accuracy: 0.9864 - val_loss: 0.0195 - val_accuracy: 0.9931\n",
            "Epoch 10/20\n",
            "590/590 [==============================] - 116s 197ms/step - loss: 0.0410 - accuracy: 0.9873 - val_loss: 0.0231 - val_accuracy: 0.9929\n",
            "Epoch 11/20\n",
            "590/590 [==============================] - 116s 197ms/step - loss: 0.0399 - accuracy: 0.9882 - val_loss: 0.0203 - val_accuracy: 0.9938\n",
            "Epoch 12/20\n",
            "590/590 [==============================] - 115s 195ms/step - loss: 0.0428 - accuracy: 0.9879 - val_loss: 0.0288 - val_accuracy: 0.9917\n",
            "Epoch 13/20\n",
            "590/590 [==============================] - 116s 197ms/step - loss: 0.0390 - accuracy: 0.9875 - val_loss: 0.0229 - val_accuracy: 0.9929\n",
            "Epoch 14/20\n",
            "590/590 [==============================] - 117s 199ms/step - loss: 0.0366 - accuracy: 0.9886 - val_loss: 0.0185 - val_accuracy: 0.9933\n",
            "\n",
            "Epoch 00014: ReduceLROnPlateau reducing learning rate to 0.0005000000237487257.\n",
            "Epoch 15/20\n",
            "590/590 [==============================] - 117s 197ms/step - loss: 0.0314 - accuracy: 0.9905 - val_loss: 0.0218 - val_accuracy: 0.9943\n",
            "Epoch 16/20\n",
            "590/590 [==============================] - 116s 197ms/step - loss: 0.0260 - accuracy: 0.9919 - val_loss: 0.0159 - val_accuracy: 0.9950\n",
            "Epoch 17/20\n",
            "590/590 [==============================] - 116s 197ms/step - loss: 0.0293 - accuracy: 0.9908 - val_loss: 0.0184 - val_accuracy: 0.9940\n",
            "Epoch 18/20\n",
            "590/590 [==============================] - 117s 199ms/step - loss: 0.0293 - accuracy: 0.9911 - val_loss: 0.0162 - val_accuracy: 0.9955\n",
            "Epoch 19/20\n",
            "590/590 [==============================] - 117s 198ms/step - loss: 0.0271 - accuracy: 0.9917 - val_loss: 0.0197 - val_accuracy: 0.9940\n",
            "Epoch 20/20\n",
            "590/590 [==============================] - 117s 199ms/step - loss: 0.0246 - accuracy: 0.9923 - val_loss: 0.0152 - val_accuracy: 0.9950\n"
          ],
          "name": "stdout"
        }
      ]
    },
    {
      "cell_type": "code",
      "metadata": {
        "colab": {
          "base_uri": "https://localhost:8080/",
          "height": 562
        },
        "id": "tI25goxZpI5m",
        "outputId": "a9cb7de4-f4c5-4530-d679-fb09c3030447"
      },
      "source": [
        "print(h.history.keys())\r\n",
        "accuracy = h.history['accuracy']\r\n",
        "val_accuracy = h.history['val_accuracy']\r\n",
        "loss = h.history['loss']\r\n",
        "val_loss = h.history['val_loss']\r\n",
        "epochs = range(len(accuracy))\r\n",
        "plt.plot(epochs, accuracy, 'bo', label='Training accuracy')\r\n",
        "plt.plot(epochs, val_accuracy, 'b', label='Validation accuracy')\r\n",
        "plt.title('Training and validation accuracy')\r\n",
        "plt.legend()\r\n",
        "plt.show()\r\n",
        "plt.figure()\r\n",
        "plt.plot(epochs, loss, 'bo', label='Training loss')\r\n",
        "plt.plot(epochs, val_loss, 'b', label='Validation loss')\r\n",
        "plt.title('Training and validation loss')\r\n",
        "plt.legend()\r\n",
        "plt.show()"
      ],
      "execution_count": null,
      "outputs": [
        {
          "output_type": "stream",
          "text": [
            "dict_keys(['loss', 'accuracy', 'val_loss', 'val_accuracy', 'lr'])\n"
          ],
          "name": "stdout"
        },
        {
          "output_type": "display_data",
          "data": {
            "image/png": "[encoded data removed]",
            "text/plain": [
              "<Figure size 432x288 with 1 Axes>"
            ]
          },
          "metadata": {
            "tags": [],
            "needs_background": "light"
          }
        },
        {
          "output_type": "display_data",
          "data": {
            "image/png": "[encoded data removed]",
            "text/plain": [
              "<Figure size 432x288 with 1 Axes>"
            ]
          },
          "metadata": {
            "tags": [],
            "needs_background": "light"
          }
        }
      ]
    }
  ]
}